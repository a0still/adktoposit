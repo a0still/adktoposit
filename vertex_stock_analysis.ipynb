{
 "cells": [
  {
   "cell_type": "markdown",
   "id": "1fe3370d",
   "metadata": {},
   "source": [
    "# Stock Analysis with Vertex AI Integration\n",
    "\n",
    "This notebook demonstrates how to combine stock market analysis with Vertex AI's powerful language models. We'll create a smart stock analysis system that can:\n",
    "\n",
    "1. Fetch and analyze stock data\n",
    "2. Generate visualizations\n",
    "3. Use Vertex AI to provide natural language insights\n",
    "4. Create automated reports\n",
    "\n",
    "## Setup\n",
    "First, let's install and import the required packages."
   ]
  },
  {
   "cell_type": "code",
   "execution_count": null,
   "id": "e561e28f",
   "metadata": {},
   "outputs": [],
   "source": [
    "# Dependencies are managed through requirements.txt\n",
    "# No need for pip install commands here"
   ]
  },
  {
   "cell_type": "code",
   "execution_count": null,
   "id": "be6260c8",
   "metadata": {},
   "outputs": [],
   "source": [
    "# Import required libraries\n",
    "import os\n",
    "import yfinance as yf\n",
    "import pandas as pd\n",
    "import matplotlib.pyplot as plt\n",
    "import seaborn as sns\n",
    "from datetime import datetime, timedelta\n",
    "from google.cloud import aiplatform\n",
    "from vertexai.generative_models import GenerativeModel\n",
    "\n",
    "# Set up plotting style\n",
    "plt.style.use('seaborn')\n",
    "sns.set_palette(\"husl\")"
   ]
  },
  {
   "cell_type": "markdown",
   "id": "72fecc3a",
   "metadata": {},
   "source": [
    "## Initialize Vertex AI\n",
    "Now let's set up our connection to Vertex AI using the credentials we configured earlier."
   ]
  },
  {
   "cell_type": "code",
   "execution_count": null,
   "id": "db20701c",
   "metadata": {},
   "outputs": [],
   "source": [
    "# Initialize Vertex AI with our project settings\n",
    "from google.oauth2 import service_account\n",
    "\n",
    "credentials = service_account.Credentials.from_service_account_file(\n",
    "    'key.json',\n",
    "    scopes=['https://www.googleapis.com/auth/cloud-platform']\n",
    ")\n",
    "\n",
    "# Initialize Vertex AI\n",
    "project_id = 'wmt-us-gg-shrnk-prod'\n",
    "location = 'us-central1'\n",
    "aiplatform.init(\n",
    "    project=project_id,\n",
    "    location=location,\n",
    "    credentials=credentials\n",
    ")\n",
    "\n",
    "# Initialize the Gemini model\n",
    "model = GenerativeModel(\"gemini-2.0-flash-001\")"
   ]
  },
  {
   "cell_type": "markdown",
   "id": "69584734",
   "metadata": {},
   "source": [
    "## Stock Data Functions\n",
    "Let's create functions to fetch and analyze stock data."
   ]
  },
  {
   "cell_type": "code",
   "execution_count": null,
   "id": "8b677f6d",
   "metadata": {},
   "outputs": [],
   "source": [
    "def fetch_stock_data(symbol, period='1y'):\n",
    "    \"\"\"Fetch stock data using yfinance.\"\"\"\n",
    "    stock = yf.Ticker(symbol)\n",
    "    df = stock.history(period=period)\n",
    "    return df\n",
    "\n",
    "def calculate_metrics(df):\n",
    "    \"\"\"Calculate key stock metrics.\"\"\"\n",
    "    metrics = {\n",
    "        'current_price': df['Close'][-1],\n",
    "        'daily_return': df['Close'].pct_change().mean(),\n",
    "        'volatility': df['Close'].pct_change().std(),\n",
    "        'volume': df['Volume'].mean(),\n",
    "        'high_52w': df['High'].max(),\n",
    "        'low_52w': df['Low'].min()\n",
    "    }\n",
    "    return metrics\n",
    "\n",
    "def analyze_with_ai(metrics, symbol):\n",
    "    \"\"\"Use Vertex AI to analyze stock metrics.\"\"\"\n",
    "    prompt = f\"\"\"\n",
    "    Analyze these stock metrics for {symbol}:\n",
    "    Current Price: ${metrics['current_price']:.2f}\n",
    "    Daily Return: {metrics['daily_return']*100:.2f}%\n",
    "    Volatility: {metrics['volatility']*100:.2f}%\n",
    "    Average Volume: {metrics['volume']:,.0f}\n",
    "    52-Week High: ${metrics['high_52w']:.2f}\n",
    "    52-Week Low: ${metrics['low_52w']:.2f}\n",
    "    \n",
    "    Provide a brief analysis including:\n",
    "    1. Key observations\n",
    "    2. Notable trends\n",
    "    3. Potential risks or opportunities\n",
    "    \"\"\"\n",
    "    \n",
    "    chat = model.start_chat()\n",
    "    response = chat.send_message(prompt)\n",
    "    return response.text"
   ]
  },
  {
   "cell_type": "markdown",
   "id": "5c3cf617",
   "metadata": {},
   "source": [
    "## Test the Integration\n",
    "Let's test our functions with a sample stock (Walmart)."
   ]
  },
  {
   "cell_type": "code",
   "execution_count": null,
   "id": "9f7e89cd",
   "metadata": {},
   "outputs": [],
   "source": [
    "# Fetch Walmart stock data\n",
    "symbol = 'WMT'\n",
    "df = fetch_stock_data(symbol)\n",
    "\n",
    "# Calculate metrics\n",
    "metrics = calculate_metrics(df)\n",
    "\n",
    "# Display basic metrics\n",
    "print(f\"Stock Analysis for {symbol}:\")\n",
    "for key, value in metrics.items():\n",
    "    print(f\"{key}: {value:,.2f}\")"
   ]
  },
  {
   "cell_type": "code",
   "execution_count": null,
   "id": "7e68d4ba",
   "metadata": {},
   "outputs": [],
   "source": [
    "# Create a price chart\n",
    "plt.figure(figsize=(12, 6))\n",
    "plt.plot(df.index, df['Close'])\n",
    "plt.title(f'{symbol} Stock Price - Past Year')\n",
    "plt.xlabel('Date')\n",
    "plt.ylabel('Price ($)')\n",
    "plt.grid(True)\n",
    "plt.show()\n",
    "\n",
    "# Get AI analysis\n",
    "print(\"\\nAI Analysis:\")\n",
    "analysis = analyze_with_ai(metrics, symbol)\n",
    "print(analysis)"
   ]
  },
  {
   "cell_type": "markdown",
   "id": "10511853",
   "metadata": {},
   "source": [
    "## Export to Quarto\n",
    "Now let's create a function to export our analysis to a Quarto document."
   ]
  },
  {
   "cell_type": "code",
   "execution_count": null,
   "id": "b1e00229",
   "metadata": {},
   "outputs": [],
   "source": [
    "def create_quarto_report(symbol, metrics, analysis, df):\n",
    "    \"\"\"Create a Quarto report with stock analysis.\"\"\"\n",
    "    report_content = f\"\"\"---\n",
    "title: \"Stock Analysis Report: {symbol}\"\n",
    "format:\n",
    "  html:\n",
    "    theme: cosmo\n",
    "    toc: true\n",
    "date: \"{datetime.now().strftime('%Y-%m-%d')}\"\n",
    "---\n",
    "\n",
    "# Stock Analysis Report for {symbol}\n",
    "\n",
    "## Key Metrics\n",
    "\n",
    "- Current Price: ${metrics['current_price']:.2f}\n",
    "- Daily Return: {metrics['daily_return']*100:.2f}%\n",
    "- Volatility: {metrics['volatility']*100:.2f}%\n",
    "- Average Volume: {metrics['volume']:,.0f}\n",
    "- 52-Week High: ${metrics['high_52w']:.2f}\n",
    "- 52-Week Low: ${metrics['low_52w']:.2f}\n",
    "\n",
    "## AI Analysis\n",
    "\n",
    "{analysis}\n",
    "\n",
    "## Price Chart\n",
    "\n",
    "```{{python}}\n",
    "#| label: price-chart\n",
    "#| fig-cap: \"Stock Price Over Time\"\n",
    "import matplotlib.pyplot as plt\n",
    "\n",
    "plt.figure(figsize=(12, 6))\n",
    "plt.plot(df.index, df['Close'])\n",
    "plt.title('{symbol} Stock Price - Past Year')\n",
    "plt.xlabel('Date')\n",
    "plt.ylabel('Price ($)')\n",
    "plt.grid(True)\n",
    "plt.show()\n",
    "```\n",
    "\"\"\"\n",
    "    \n",
    "    # Save the report\n",
    "    with open(f'stock_report_{symbol}.qmd', 'w') as f:\n",
    "        f.write(report_content)\n",
    "    \n",
    "    return f'stock_report_{symbol}.qmd'\n",
    "\n",
    "# Create the report\n",
    "report_file = create_quarto_report(symbol, metrics, analysis, df)\n",
    "print(f\"Report created: {report_file}\")\n",
    "print(\"You can now render this report in Posit using the Quarto tools.\")"
   ]
  }
 ],
 "metadata": {
  "kernelspec": {
   "display_name": "venv",
   "language": "python",
   "name": "python3"
  },
  "language_info": {
   "name": "python",
   "version": "3.12.1"
  }
 },
 "nbformat": 4,
 "nbformat_minor": 5
}
